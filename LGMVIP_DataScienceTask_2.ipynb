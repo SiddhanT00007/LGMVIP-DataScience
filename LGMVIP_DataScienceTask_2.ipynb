{
  "nbformat": 4,
  "nbformat_minor": 0,
  "metadata": {
    "colab": {
      "name": "LGMVIP-DataScienceTask 2.ipynb",
      "provenance": [],
      "collapsed_sections": [],
      "authorship_tag": "ABX9TyO70PcYXCkQmdMgyPy7UOv9",
      "include_colab_link": true
    },
    "kernelspec": {
      "name": "python3",
      "display_name": "Python 3"
    },
    "language_info": {
      "name": "python"
    }
  },
  "cells": [
    {
      "cell_type": "markdown",
      "metadata": {
        "id": "view-in-github",
        "colab_type": "text"
      },
      "source": [
        "<a href=\"https://colab.research.google.com/github/SiddhanT00007/LGMVIP-DataScience/blob/main/LGMVIP_DataScienceTask_2.ipynb\" target=\"_parent\"><img src=\"https://colab.research.google.com/assets/colab-badge.svg\" alt=\"Open In Colab\"/></a>"
      ]
    },
    {
      "cell_type": "markdown",
      "source": [
        "TASK 2 : Stock Market Prediction and Forecasting Using Stacked LSTM"
      ],
      "metadata": {
        "id": "4TE9ly5bHUCK"
      }
    },
    {
      "cell_type": "markdown",
      "source": [
        "Performed by : Siddhant Santosh Kakade"
      ],
      "metadata": {
        "id": "AEQF4LzbHYLV"
      }
    },
    {
      "cell_type": "markdown",
      "source": [
        "Import the Necessary libraries"
      ],
      "metadata": {
        "id": "DtyPzV1uHu8V"
      }
    },
    {
      "cell_type": "code",
      "source": [
        "import numpy as np\n",
        "import matplotlib.pyplot as plt\n",
        "import pandas as pd"
      ],
      "metadata": {
        "id": "iMMcaIvMIKzK"
      },
      "execution_count": 5,
      "outputs": []
    },
    {
      "cell_type": "code",
      "source": [
        "url = 'https://raw.githubusercontent.com/mwitiderrick/stockprice/master/NSE-TATAGLOBAL.csv'\n",
        "dataset_train = pd.read_csv(url)\n",
        "training_set = dataset_train.iloc[:,1:2].values"
      ],
      "metadata": {
        "id": "Cuq2oaHNIQ2T"
      },
      "execution_count": 6,
      "outputs": []
    },
    {
      "cell_type": "code",
      "source": [
        "dataset_train.head()"
      ],
      "metadata": {
        "colab": {
          "base_uri": "https://localhost:8080/",
          "height": 206
        },
        "id": "aic0xsjaITy-",
        "outputId": "254ab7bf-c82b-4dba-a1ad-1c193061fdc4"
      },
      "execution_count": 7,
      "outputs": [
        {
          "output_type": "execute_result",
          "data": {
            "text/html": [
              "\n",
              "  <div id=\"df-ba1d04eb-2e81-40ab-ba8e-6f10ad688633\">\n",
              "    <div class=\"colab-df-container\">\n",
              "      <div>\n",
              "<style scoped>\n",
              "    .dataframe tbody tr th:only-of-type {\n",
              "        vertical-align: middle;\n",
              "    }\n",
              "\n",
              "    .dataframe tbody tr th {\n",
              "        vertical-align: top;\n",
              "    }\n",
              "\n",
              "    .dataframe thead th {\n",
              "        text-align: right;\n",
              "    }\n",
              "</style>\n",
              "<table border=\"1\" class=\"dataframe\">\n",
              "  <thead>\n",
              "    <tr style=\"text-align: right;\">\n",
              "      <th></th>\n",
              "      <th>Date</th>\n",
              "      <th>Open</th>\n",
              "      <th>High</th>\n",
              "      <th>Low</th>\n",
              "      <th>Last</th>\n",
              "      <th>Close</th>\n",
              "      <th>Total Trade Quantity</th>\n",
              "      <th>Turnover (Lacs)</th>\n",
              "    </tr>\n",
              "  </thead>\n",
              "  <tbody>\n",
              "    <tr>\n",
              "      <th>0</th>\n",
              "      <td>2018-09-28</td>\n",
              "      <td>234.05</td>\n",
              "      <td>235.95</td>\n",
              "      <td>230.20</td>\n",
              "      <td>233.50</td>\n",
              "      <td>233.75</td>\n",
              "      <td>3069914</td>\n",
              "      <td>7162.35</td>\n",
              "    </tr>\n",
              "    <tr>\n",
              "      <th>1</th>\n",
              "      <td>2018-09-27</td>\n",
              "      <td>234.55</td>\n",
              "      <td>236.80</td>\n",
              "      <td>231.10</td>\n",
              "      <td>233.80</td>\n",
              "      <td>233.25</td>\n",
              "      <td>5082859</td>\n",
              "      <td>11859.95</td>\n",
              "    </tr>\n",
              "    <tr>\n",
              "      <th>2</th>\n",
              "      <td>2018-09-26</td>\n",
              "      <td>240.00</td>\n",
              "      <td>240.00</td>\n",
              "      <td>232.50</td>\n",
              "      <td>235.00</td>\n",
              "      <td>234.25</td>\n",
              "      <td>2240909</td>\n",
              "      <td>5248.60</td>\n",
              "    </tr>\n",
              "    <tr>\n",
              "      <th>3</th>\n",
              "      <td>2018-09-25</td>\n",
              "      <td>233.30</td>\n",
              "      <td>236.75</td>\n",
              "      <td>232.00</td>\n",
              "      <td>236.25</td>\n",
              "      <td>236.10</td>\n",
              "      <td>2349368</td>\n",
              "      <td>5503.90</td>\n",
              "    </tr>\n",
              "    <tr>\n",
              "      <th>4</th>\n",
              "      <td>2018-09-24</td>\n",
              "      <td>233.55</td>\n",
              "      <td>239.20</td>\n",
              "      <td>230.75</td>\n",
              "      <td>234.00</td>\n",
              "      <td>233.30</td>\n",
              "      <td>3423509</td>\n",
              "      <td>7999.55</td>\n",
              "    </tr>\n",
              "  </tbody>\n",
              "</table>\n",
              "</div>\n",
              "      <button class=\"colab-df-convert\" onclick=\"convertToInteractive('df-ba1d04eb-2e81-40ab-ba8e-6f10ad688633')\"\n",
              "              title=\"Convert this dataframe to an interactive table.\"\n",
              "              style=\"display:none;\">\n",
              "        \n",
              "  <svg xmlns=\"http://www.w3.org/2000/svg\" height=\"24px\"viewBox=\"0 0 24 24\"\n",
              "       width=\"24px\">\n",
              "    <path d=\"M0 0h24v24H0V0z\" fill=\"none\"/>\n",
              "    <path d=\"M18.56 5.44l.94 2.06.94-2.06 2.06-.94-2.06-.94-.94-2.06-.94 2.06-2.06.94zm-11 1L8.5 8.5l.94-2.06 2.06-.94-2.06-.94L8.5 2.5l-.94 2.06-2.06.94zm10 10l.94 2.06.94-2.06 2.06-.94-2.06-.94-.94-2.06-.94 2.06-2.06.94z\"/><path d=\"M17.41 7.96l-1.37-1.37c-.4-.4-.92-.59-1.43-.59-.52 0-1.04.2-1.43.59L10.3 9.45l-7.72 7.72c-.78.78-.78 2.05 0 2.83L4 21.41c.39.39.9.59 1.41.59.51 0 1.02-.2 1.41-.59l7.78-7.78 2.81-2.81c.8-.78.8-2.07 0-2.86zM5.41 20L4 18.59l7.72-7.72 1.47 1.35L5.41 20z\"/>\n",
              "  </svg>\n",
              "      </button>\n",
              "      \n",
              "  <style>\n",
              "    .colab-df-container {\n",
              "      display:flex;\n",
              "      flex-wrap:wrap;\n",
              "      gap: 12px;\n",
              "    }\n",
              "\n",
              "    .colab-df-convert {\n",
              "      background-color: #E8F0FE;\n",
              "      border: none;\n",
              "      border-radius: 50%;\n",
              "      cursor: pointer;\n",
              "      display: none;\n",
              "      fill: #1967D2;\n",
              "      height: 32px;\n",
              "      padding: 0 0 0 0;\n",
              "      width: 32px;\n",
              "    }\n",
              "\n",
              "    .colab-df-convert:hover {\n",
              "      background-color: #E2EBFA;\n",
              "      box-shadow: 0px 1px 2px rgba(60, 64, 67, 0.3), 0px 1px 3px 1px rgba(60, 64, 67, 0.15);\n",
              "      fill: #174EA6;\n",
              "    }\n",
              "\n",
              "    [theme=dark] .colab-df-convert {\n",
              "      background-color: #3B4455;\n",
              "      fill: #D2E3FC;\n",
              "    }\n",
              "\n",
              "    [theme=dark] .colab-df-convert:hover {\n",
              "      background-color: #434B5C;\n",
              "      box-shadow: 0px 1px 3px 1px rgba(0, 0, 0, 0.15);\n",
              "      filter: drop-shadow(0px 1px 2px rgba(0, 0, 0, 0.3));\n",
              "      fill: #FFFFFF;\n",
              "    }\n",
              "  </style>\n",
              "\n",
              "      <script>\n",
              "        const buttonEl =\n",
              "          document.querySelector('#df-ba1d04eb-2e81-40ab-ba8e-6f10ad688633 button.colab-df-convert');\n",
              "        buttonEl.style.display =\n",
              "          google.colab.kernel.accessAllowed ? 'block' : 'none';\n",
              "\n",
              "        async function convertToInteractive(key) {\n",
              "          const element = document.querySelector('#df-ba1d04eb-2e81-40ab-ba8e-6f10ad688633');\n",
              "          const dataTable =\n",
              "            await google.colab.kernel.invokeFunction('convertToInteractive',\n",
              "                                                     [key], {});\n",
              "          if (!dataTable) return;\n",
              "\n",
              "          const docLinkHtml = 'Like what you see? Visit the ' +\n",
              "            '<a target=\"_blank\" href=https://colab.research.google.com/notebooks/data_table.ipynb>data table notebook</a>'\n",
              "            + ' to learn more about interactive tables.';\n",
              "          element.innerHTML = '';\n",
              "          dataTable['output_type'] = 'display_data';\n",
              "          await google.colab.output.renderOutput(dataTable, element);\n",
              "          const docLink = document.createElement('div');\n",
              "          docLink.innerHTML = docLinkHtml;\n",
              "          element.appendChild(docLink);\n",
              "        }\n",
              "      </script>\n",
              "    </div>\n",
              "  </div>\n",
              "  "
            ],
            "text/plain": [
              "         Date    Open    High  ...   Close  Total Trade Quantity  Turnover (Lacs)\n",
              "0  2018-09-28  234.05  235.95  ...  233.75               3069914          7162.35\n",
              "1  2018-09-27  234.55  236.80  ...  233.25               5082859         11859.95\n",
              "2  2018-09-26  240.00  240.00  ...  234.25               2240909          5248.60\n",
              "3  2018-09-25  233.30  236.75  ...  236.10               2349368          5503.90\n",
              "4  2018-09-24  233.55  239.20  ...  233.30               3423509          7999.55\n",
              "\n",
              "[5 rows x 8 columns]"
            ]
          },
          "metadata": {},
          "execution_count": 7
        }
      ]
    },
    {
      "cell_type": "code",
      "source": [
        "data_close = dataset_train['Close']"
      ],
      "metadata": {
        "id": "0uKEtnEeIWgU"
      },
      "execution_count": 8,
      "outputs": []
    },
    {
      "cell_type": "code",
      "source": [
        "data_close"
      ],
      "metadata": {
        "colab": {
          "base_uri": "https://localhost:8080/"
        },
        "id": "eG5tkOI9IZmf",
        "outputId": "76d80c2c-739b-44ea-e8d2-18f1c751e5dd"
      },
      "execution_count": 9,
      "outputs": [
        {
          "output_type": "execute_result",
          "data": {
            "text/plain": [
              "0       233.75\n",
              "1       233.25\n",
              "2       234.25\n",
              "3       236.10\n",
              "4       233.30\n",
              "         ...  \n",
              "2030    118.65\n",
              "2031    117.60\n",
              "2032    120.65\n",
              "2033    120.90\n",
              "2034    121.55\n",
              "Name: Close, Length: 2035, dtype: float64"
            ]
          },
          "metadata": {},
          "execution_count": 9
        }
      ]
    },
    {
      "cell_type": "code",
      "source": [
        "plt.plot(data_close)"
      ],
      "metadata": {
        "colab": {
          "base_uri": "https://localhost:8080/",
          "height": 283
        },
        "id": "WrSkH6dvIcU6",
        "outputId": "ab015054-c735-484c-9e62-f3da8206f67f"
      },
      "execution_count": 10,
      "outputs": [
        {
          "output_type": "execute_result",
          "data": {
            "text/plain": [
              "[<matplotlib.lines.Line2D at 0x7f25e5e0e710>]"
            ]
          },
          "metadata": {},
          "execution_count": 10
        },
        {
          "output_type": "display_data",
          "data": {
            "image/png": "[encoded data removed]",
            "text/plain": [
              "<Figure size 432x288 with 1 Axes>"
            ]
          },
          "metadata": {
            "needs_background": "light"
          }
        }
      ]
    },
    {
      "cell_type": "markdown",
      "source": [
        "Data Normalization"
      ],
      "metadata": {
        "id": "zum20wryIj7n"
      }
    },
    {
      "cell_type": "code",
      "source": [
        "from sklearn.preprocessing import MinMaxScaler\n",
        "scaler = MinMaxScaler(feature_range = (0,1))\n",
        "data_close = scaler.fit_transform(np.array(data_close).reshape(-1,1))"
      ],
      "metadata": {
        "id": "EnRfcqnqIlxL"
      },
      "execution_count": 11,
      "outputs": []
    },
    {
      "cell_type": "code",
      "source": [
        "data_close.shape"
      ],
      "metadata": {
        "colab": {
          "base_uri": "https://localhost:8080/"
        },
        "id": "cWq_NUUSIraS",
        "outputId": "05e110a2-a45a-449a-9b7f-0a98559c442a"
      },
      "execution_count": 12,
      "outputs": [
        {
          "output_type": "execute_result",
          "data": {
            "text/plain": [
              "(2035, 1)"
            ]
          },
          "metadata": {},
          "execution_count": 12
        }
      ]
    },
    {
      "cell_type": "code",
      "source": [
        "print(data_close)"
      ],
      "metadata": {
        "colab": {
          "base_uri": "https://localhost:8080/"
        },
        "id": "Gs2jUvRlIuNU",
        "outputId": "1a0fc945-4663-4aeb-e9f9-0556d0a3bdcb"
      },
      "execution_count": 13,
      "outputs": [
        {
          "output_type": "stream",
          "name": "stdout",
          "text": [
            "[[0.62418301]\n",
            " [0.62214052]\n",
            " [0.62622549]\n",
            " ...\n",
            " [0.1621732 ]\n",
            " [0.16319444]\n",
            " [0.16584967]]\n"
          ]
        }
      ]
    },
    {
      "cell_type": "markdown",
      "source": [
        "Train and Test Split"
      ],
      "metadata": {
        "id": "0yZEmsWPJF6f"
      }
    },
    {
      "cell_type": "code",
      "source": [
        "training_size = int(len(data_close)*0.75)\n",
        "test_size = len(data_close) - training_size\n",
        "train_data, test_data = data_close[0:training_size,:], data_close[training_size:len(data_close),:1]"
      ],
      "metadata": {
        "id": "_Hnopy_dJHZd"
      },
      "execution_count": 14,
      "outputs": []
    },
    {
      "cell_type": "code",
      "source": [
        "def create_dataset(dataset, time_step = 1):\n",
        "    dataX, dataY = [], []\n",
        "    for i in range(len(dataset)- time_step - 1):\n",
        "        a = dataset[i:(i+time_step), 0]\n",
        "        dataX.append(a)\n",
        "        dataY.append(dataset[i+time_step, 0])\n",
        "    return np.array(dataX), np.array(dataY)"
      ],
      "metadata": {
        "id": "mzfWMk9uJQfM"
      },
      "execution_count": 15,
      "outputs": []
    },
    {
      "cell_type": "code",
      "source": [
        "time_step = 100\n",
        "x_train, y_train = create_dataset(train_data, time_step)\n",
        "x_test, y_test = create_dataset(test_data, time_step)"
      ],
      "metadata": {
        "id": "6memmdTxJXp4"
      },
      "execution_count": 16,
      "outputs": []
    },
    {
      "cell_type": "code",
      "source": [
        "#Reshape the input to be [samples , time steps, features] which the requirement of LSTM\n",
        "x_train = x_train.reshape(x_train.shape[0], x_train.shape[1], 1)\n",
        "x_test = x_test.reshape(x_test.shape[0], x_test.shape[1], 1)"
      ],
      "metadata": {
        "id": "CwCuy3RJJbwx"
      },
      "execution_count": 17,
      "outputs": []
    },
    {
      "cell_type": "code",
      "source": [
        "#create the LSTM Model\n",
        "from keras.models import Sequential\n",
        "from keras.layers import LSTM\n",
        "from keras.layers import Dropout\n",
        "from keras.layers import Dense\n",
        "model = Sequential()\n",
        "model.add(LSTM(50,return_sequences = True, input_shape = (100,1)))\n",
        "model.add(LSTM(50,return_sequences = True))\n",
        "model.add(LSTM(50))\n",
        "model.add(Dense(1))\n",
        "model.compile(loss = 'mean_squared_error', optimizer = 'adam')"
      ],
      "metadata": {
        "id": "myyFtUflJgTu"
      },
      "execution_count": 18,
      "outputs": []
    },
    {
      "cell_type": "code",
      "source": [
        "model.summary()"
      ],
      "metadata": {
        "colab": {
          "base_uri": "https://localhost:8080/"
        },
        "id": "b0nqiS1TJkZH",
        "outputId": "c89f84fd-a300-42a3-ec59-8de7fb57f539"
      },
      "execution_count": 19,
      "outputs": [
        {
          "output_type": "stream",
          "name": "stdout",
          "text": [
            "Model: \"sequential\"\n",
            "_________________________________________________________________\n",
            " Layer (type)                Output Shape              Param #   \n",
            "=================================================================\n",
            " lstm (LSTM)                 (None, 100, 50)           10400     \n",
            "                                                                 \n",
            " lstm_1 (LSTM)               (None, 100, 50)           20200     \n",
            "                                                                 \n",
            " lstm_2 (LSTM)               (None, 50)                20200     \n",
            "                                                                 \n",
            " dense (Dense)               (None, 1)                 51        \n",
            "                                                                 \n",
            "=================================================================\n",
            "Total params: 50,851\n",
            "Trainable params: 50,851\n",
            "Non-trainable params: 0\n",
            "_________________________________________________________________\n"
          ]
        }
      ]
    },
    {
      "cell_type": "code",
      "source": [
        "model.summary()"
      ],
      "metadata": {
        "colab": {
          "base_uri": "https://localhost:8080/"
        },
        "id": "leipAbNZJ_SO",
        "outputId": "b099fe49-4a47-4326-8cbe-826bb2c3a0b8"
      },
      "execution_count": 20,
      "outputs": [
        {
          "output_type": "stream",
          "name": "stdout",
          "text": [
            "Model: \"sequential\"\n",
            "_________________________________________________________________\n",
            " Layer (type)                Output Shape              Param #   \n",
            "=================================================================\n",
            " lstm (LSTM)                 (None, 100, 50)           10400     \n",
            "                                                                 \n",
            " lstm_1 (LSTM)               (None, 100, 50)           20200     \n",
            "                                                                 \n",
            " lstm_2 (LSTM)               (None, 50)                20200     \n",
            "                                                                 \n",
            " dense (Dense)               (None, 1)                 51        \n",
            "                                                                 \n",
            "=================================================================\n",
            "Total params: 50,851\n",
            "Trainable params: 50,851\n",
            "Non-trainable params: 0\n",
            "_________________________________________________________________\n"
          ]
        }
      ]
    },
    {
      "cell_type": "code",
      "source": [
        "model.fit(x_train, y_train, validation_data = (x_test, y_test), epochs = 100, batch_size = 64, verbose = 1)"
      ],
      "metadata": {
        "colab": {
          "base_uri": "https://localhost:8080/"
        },
        "id": "7Q5iBluqKITa",
        "outputId": "0d49bf68-22c6-4022-add4-4b8b5a6c09e4"
      },
      "execution_count": 21,
      "outputs": [
        {
          "output_type": "stream",
          "name": "stdout",
          "text": [
            "Epoch 1/100\n",
            "23/23 [==============================] - 15s 313ms/step - loss: 0.0180 - val_loss: 0.0044\n",
            "Epoch 2/100\n",
            "23/23 [==============================] - 5s 225ms/step - loss: 0.0020 - val_loss: 8.6003e-04\n",
            "Epoch 3/100\n",
            "23/23 [==============================] - 5s 225ms/step - loss: 0.0015 - val_loss: 0.0016\n",
            "Epoch 4/100\n",
            "23/23 [==============================] - 5s 224ms/step - loss: 0.0015 - val_loss: 0.0013\n",
            "Epoch 5/100\n",
            "23/23 [==============================] - 5s 230ms/step - loss: 0.0015 - val_loss: 0.0014\n",
            "Epoch 6/100\n",
            "23/23 [==============================] - 6s 245ms/step - loss: 0.0013 - val_loss: 0.0014\n",
            "Epoch 7/100\n",
            "23/23 [==============================] - 6s 244ms/step - loss: 0.0012 - val_loss: 9.4353e-04\n",
            "Epoch 8/100\n",
            "23/23 [==============================] - 6s 242ms/step - loss: 0.0011 - val_loss: 0.0011\n",
            "Epoch 9/100\n",
            "23/23 [==============================] - 5s 230ms/step - loss: 0.0011 - val_loss: 9.0936e-04\n",
            "Epoch 10/100\n",
            "23/23 [==============================] - 5s 226ms/step - loss: 9.8102e-04 - val_loss: 8.9020e-04\n",
            "Epoch 11/100\n",
            "23/23 [==============================] - 5s 235ms/step - loss: 0.0011 - val_loss: 9.5678e-04\n",
            "Epoch 12/100\n",
            "23/23 [==============================] - 5s 238ms/step - loss: 9.6579e-04 - val_loss: 7.9538e-04\n",
            "Epoch 13/100\n",
            "23/23 [==============================] - 5s 230ms/step - loss: 8.7570e-04 - val_loss: 8.4597e-04\n",
            "Epoch 14/100\n",
            "23/23 [==============================] - 5s 222ms/step - loss: 9.0316e-04 - val_loss: 7.1926e-04\n",
            "Epoch 15/100\n",
            "23/23 [==============================] - 5s 225ms/step - loss: 8.8164e-04 - val_loss: 9.2128e-04\n",
            "Epoch 16/100\n",
            "23/23 [==============================] - 5s 219ms/step - loss: 8.1414e-04 - val_loss: 8.0887e-04\n",
            "Epoch 17/100\n",
            "23/23 [==============================] - 5s 224ms/step - loss: 8.1673e-04 - val_loss: 6.3479e-04\n",
            "Epoch 18/100\n",
            "23/23 [==============================] - 5s 225ms/step - loss: 8.9558e-04 - val_loss: 9.0070e-04\n",
            "Epoch 19/100\n",
            "23/23 [==============================] - 5s 221ms/step - loss: 8.0842e-04 - val_loss: 7.5496e-04\n",
            "Epoch 20/100\n",
            "23/23 [==============================] - 5s 215ms/step - loss: 7.6095e-04 - val_loss: 6.4615e-04\n",
            "Epoch 21/100\n",
            "23/23 [==============================] - 5s 219ms/step - loss: 7.4074e-04 - val_loss: 0.0013\n",
            "Epoch 22/100\n",
            "23/23 [==============================] - 5s 214ms/step - loss: 8.8720e-04 - val_loss: 6.0378e-04\n",
            "Epoch 23/100\n",
            "23/23 [==============================] - 5s 218ms/step - loss: 6.7795e-04 - val_loss: 7.3064e-04\n",
            "Epoch 24/100\n",
            "23/23 [==============================] - 5s 218ms/step - loss: 6.6295e-04 - val_loss: 7.7383e-04\n",
            "Epoch 25/100\n",
            "23/23 [==============================] - 5s 217ms/step - loss: 6.3397e-04 - val_loss: 8.1134e-04\n",
            "Epoch 26/100\n",
            "23/23 [==============================] - 5s 216ms/step - loss: 6.4679e-04 - val_loss: 7.4906e-04\n",
            "Epoch 27/100\n",
            "23/23 [==============================] - 5s 217ms/step - loss: 6.2462e-04 - val_loss: 7.0854e-04\n",
            "Epoch 28/100\n",
            "23/23 [==============================] - 5s 217ms/step - loss: 7.2457e-04 - val_loss: 6.4155e-04\n",
            "Epoch 29/100\n",
            "23/23 [==============================] - 5s 219ms/step - loss: 6.1111e-04 - val_loss: 5.4427e-04\n",
            "Epoch 30/100\n",
            "23/23 [==============================] - 5s 220ms/step - loss: 6.1334e-04 - val_loss: 5.7048e-04\n",
            "Epoch 31/100\n",
            "23/23 [==============================] - 5s 214ms/step - loss: 5.9015e-04 - val_loss: 6.3686e-04\n",
            "Epoch 32/100\n",
            "23/23 [==============================] - 5s 218ms/step - loss: 6.1498e-04 - val_loss: 7.6412e-04\n",
            "Epoch 33/100\n",
            "23/23 [==============================] - 5s 221ms/step - loss: 5.5399e-04 - val_loss: 6.5988e-04\n",
            "Epoch 34/100\n",
            "23/23 [==============================] - 5s 214ms/step - loss: 5.4933e-04 - val_loss: 5.7903e-04\n",
            "Epoch 35/100\n",
            "23/23 [==============================] - 5s 212ms/step - loss: 5.5321e-04 - val_loss: 6.1531e-04\n",
            "Epoch 36/100\n",
            "23/23 [==============================] - 5s 214ms/step - loss: 5.7277e-04 - val_loss: 5.2387e-04\n",
            "Epoch 37/100\n",
            "23/23 [==============================] - 5s 215ms/step - loss: 5.2760e-04 - val_loss: 7.1870e-04\n",
            "Epoch 38/100\n",
            "23/23 [==============================] - 5s 210ms/step - loss: 5.2933e-04 - val_loss: 5.7039e-04\n",
            "Epoch 39/100\n",
            "23/23 [==============================] - 5s 211ms/step - loss: 5.4774e-04 - val_loss: 7.7334e-04\n",
            "Epoch 40/100\n",
            "23/23 [==============================] - 5s 211ms/step - loss: 5.3094e-04 - val_loss: 5.4658e-04\n",
            "Epoch 41/100\n",
            "23/23 [==============================] - 5s 212ms/step - loss: 4.8675e-04 - val_loss: 5.5306e-04\n",
            "Epoch 42/100\n",
            "23/23 [==============================] - 5s 215ms/step - loss: 5.7159e-04 - val_loss: 5.5057e-04\n",
            "Epoch 43/100\n",
            "23/23 [==============================] - 5s 214ms/step - loss: 4.9011e-04 - val_loss: 7.0746e-04\n",
            "Epoch 44/100\n",
            "23/23 [==============================] - 5s 214ms/step - loss: 5.3025e-04 - val_loss: 5.6657e-04\n",
            "Epoch 45/100\n",
            "23/23 [==============================] - 5s 213ms/step - loss: 4.6889e-04 - val_loss: 6.0025e-04\n",
            "Epoch 46/100\n",
            "23/23 [==============================] - 5s 216ms/step - loss: 4.3590e-04 - val_loss: 5.4969e-04\n",
            "Epoch 47/100\n",
            "23/23 [==============================] - 5s 213ms/step - loss: 4.4664e-04 - val_loss: 5.0699e-04\n",
            "Epoch 48/100\n",
            "23/23 [==============================] - 5s 216ms/step - loss: 4.5746e-04 - val_loss: 4.0265e-04\n",
            "Epoch 49/100\n",
            "23/23 [==============================] - 5s 216ms/step - loss: 4.8315e-04 - val_loss: 3.9772e-04\n",
            "Epoch 50/100\n",
            "23/23 [==============================] - 5s 216ms/step - loss: 4.3443e-04 - val_loss: 5.6178e-04\n",
            "Epoch 51/100\n",
            "23/23 [==============================] - 5s 218ms/step - loss: 4.4095e-04 - val_loss: 5.5733e-04\n",
            "Epoch 52/100\n",
            "23/23 [==============================] - 5s 216ms/step - loss: 4.8899e-04 - val_loss: 3.0677e-04\n",
            "Epoch 53/100\n",
            "23/23 [==============================] - 5s 213ms/step - loss: 3.9780e-04 - val_loss: 3.7211e-04\n",
            "Epoch 54/100\n",
            "23/23 [==============================] - 5s 215ms/step - loss: 3.8198e-04 - val_loss: 3.2304e-04\n",
            "Epoch 55/100\n",
            "23/23 [==============================] - 5s 213ms/step - loss: 5.6307e-04 - val_loss: 3.2921e-04\n",
            "Epoch 56/100\n",
            "23/23 [==============================] - 5s 215ms/step - loss: 4.1586e-04 - val_loss: 3.8449e-04\n",
            "Epoch 57/100\n",
            "23/23 [==============================] - 5s 212ms/step - loss: 3.9176e-04 - val_loss: 4.6645e-04\n",
            "Epoch 58/100\n",
            "23/23 [==============================] - 5s 212ms/step - loss: 3.6101e-04 - val_loss: 4.4253e-04\n",
            "Epoch 59/100\n",
            "23/23 [==============================] - 5s 212ms/step - loss: 3.4267e-04 - val_loss: 5.0097e-04\n",
            "Epoch 60/100\n",
            "23/23 [==============================] - 5s 215ms/step - loss: 3.5647e-04 - val_loss: 3.4317e-04\n",
            "Epoch 61/100\n",
            "23/23 [==============================] - 5s 216ms/step - loss: 3.3984e-04 - val_loss: 3.3459e-04\n",
            "Epoch 62/100\n",
            "23/23 [==============================] - 5s 218ms/step - loss: 3.3551e-04 - val_loss: 4.8961e-04\n",
            "Epoch 63/100\n",
            "23/23 [==============================] - 5s 213ms/step - loss: 3.9938e-04 - val_loss: 2.5802e-04\n",
            "Epoch 64/100\n",
            "23/23 [==============================] - 5s 217ms/step - loss: 5.8612e-04 - val_loss: 2.8481e-04\n",
            "Epoch 65/100\n",
            "23/23 [==============================] - 5s 214ms/step - loss: 5.2264e-04 - val_loss: 3.4429e-04\n",
            "Epoch 66/100\n",
            "23/23 [==============================] - 5s 215ms/step - loss: 4.1903e-04 - val_loss: 3.6445e-04\n",
            "Epoch 67/100\n",
            "23/23 [==============================] - 5s 218ms/step - loss: 3.1796e-04 - val_loss: 3.2621e-04\n",
            "Epoch 68/100\n",
            "23/23 [==============================] - 5s 219ms/step - loss: 3.0987e-04 - val_loss: 4.0666e-04\n",
            "Epoch 69/100\n",
            "23/23 [==============================] - 5s 216ms/step - loss: 3.2080e-04 - val_loss: 3.0487e-04\n",
            "Epoch 70/100\n",
            "23/23 [==============================] - 5s 212ms/step - loss: 2.9918e-04 - val_loss: 4.0370e-04\n",
            "Epoch 71/100\n",
            "23/23 [==============================] - 5s 214ms/step - loss: 2.8366e-04 - val_loss: 2.9744e-04\n",
            "Epoch 72/100\n",
            "23/23 [==============================] - 5s 211ms/step - loss: 2.9672e-04 - val_loss: 3.5239e-04\n",
            "Epoch 73/100\n",
            "23/23 [==============================] - 5s 216ms/step - loss: 2.8358e-04 - val_loss: 3.1209e-04\n",
            "Epoch 74/100\n",
            "23/23 [==============================] - 5s 210ms/step - loss: 3.0154e-04 - val_loss: 2.3097e-04\n",
            "Epoch 75/100\n",
            "23/23 [==============================] - 5s 215ms/step - loss: 2.9333e-04 - val_loss: 3.3090e-04\n",
            "Epoch 76/100\n",
            "23/23 [==============================] - 5s 208ms/step - loss: 2.6893e-04 - val_loss: 2.7466e-04\n",
            "Epoch 77/100\n",
            "23/23 [==============================] - 5s 203ms/step - loss: 3.4562e-04 - val_loss: 3.3045e-04\n",
            "Epoch 78/100\n",
            "23/23 [==============================] - 5s 202ms/step - loss: 2.7007e-04 - val_loss: 5.3986e-04\n",
            "Epoch 79/100\n",
            "23/23 [==============================] - 5s 203ms/step - loss: 2.8916e-04 - val_loss: 3.2377e-04\n",
            "Epoch 80/100\n",
            "23/23 [==============================] - 5s 200ms/step - loss: 2.5839e-04 - val_loss: 2.8254e-04\n",
            "Epoch 81/100\n",
            "23/23 [==============================] - 5s 202ms/step - loss: 2.5625e-04 - val_loss: 2.2700e-04\n",
            "Epoch 82/100\n",
            "23/23 [==============================] - 5s 203ms/step - loss: 2.6937e-04 - val_loss: 2.6317e-04\n",
            "Epoch 83/100\n",
            "23/23 [==============================] - 5s 203ms/step - loss: 2.4842e-04 - val_loss: 2.1986e-04\n",
            "Epoch 84/100\n",
            "23/23 [==============================] - 5s 202ms/step - loss: 2.5154e-04 - val_loss: 2.1917e-04\n",
            "Epoch 85/100\n",
            "23/23 [==============================] - 5s 202ms/step - loss: 2.5343e-04 - val_loss: 2.2075e-04\n",
            "Epoch 86/100\n",
            "23/23 [==============================] - 5s 203ms/step - loss: 2.5971e-04 - val_loss: 4.6665e-04\n",
            "Epoch 87/100\n",
            "23/23 [==============================] - 5s 201ms/step - loss: 2.9926e-04 - val_loss: 2.5596e-04\n",
            "Epoch 88/100\n",
            "23/23 [==============================] - 5s 205ms/step - loss: 2.2995e-04 - val_loss: 3.1992e-04\n",
            "Epoch 89/100\n",
            "23/23 [==============================] - 5s 204ms/step - loss: 2.7295e-04 - val_loss: 3.5488e-04\n",
            "Epoch 90/100\n",
            "23/23 [==============================] - 5s 202ms/step - loss: 2.5815e-04 - val_loss: 2.7045e-04\n",
            "Epoch 91/100\n",
            "23/23 [==============================] - 5s 202ms/step - loss: 3.1959e-04 - val_loss: 2.7031e-04\n",
            "Epoch 92/100\n",
            "23/23 [==============================] - 5s 199ms/step - loss: 2.3191e-04 - val_loss: 2.3080e-04\n",
            "Epoch 93/100\n",
            "23/23 [==============================] - 5s 202ms/step - loss: 2.2740e-04 - val_loss: 2.6930e-04\n",
            "Epoch 94/100\n",
            "23/23 [==============================] - 5s 202ms/step - loss: 2.3382e-04 - val_loss: 3.7299e-04\n",
            "Epoch 95/100\n",
            "23/23 [==============================] - 5s 203ms/step - loss: 2.7438e-04 - val_loss: 3.3735e-04\n",
            "Epoch 96/100\n",
            "23/23 [==============================] - 5s 203ms/step - loss: 2.6768e-04 - val_loss: 2.0599e-04\n",
            "Epoch 97/100\n",
            "23/23 [==============================] - 5s 204ms/step - loss: 2.6705e-04 - val_loss: 2.9103e-04\n",
            "Epoch 98/100\n",
            "23/23 [==============================] - 5s 203ms/step - loss: 2.2763e-04 - val_loss: 3.1071e-04\n",
            "Epoch 99/100\n",
            "23/23 [==============================] - 5s 204ms/step - loss: 2.3201e-04 - val_loss: 2.4480e-04\n",
            "Epoch 100/100\n",
            "23/23 [==============================] - 5s 202ms/step - loss: 2.5995e-04 - val_loss: 4.2154e-04\n"
          ]
        },
        {
          "output_type": "execute_result",
          "data": {
            "text/plain": [
              "<keras.callbacks.History at 0x7f25dea08310>"
            ]
          },
          "metadata": {},
          "execution_count": 21
        }
      ]
    },
    {
      "cell_type": "code",
      "source": [
        "#lets predict and check performance matrices\n",
        "train_predict = model.predict(x_train)\n",
        "test_predict = model.predict(x_test)"
      ],
      "metadata": {
        "id": "inL95WouKqJc"
      },
      "execution_count": 22,
      "outputs": []
    },
    {
      "cell_type": "code",
      "source": [
        "#transform back to original form\n",
        "train_predict = scaler.inverse_transform(train_predict)\n",
        "test_predict = scaler.inverse_transform(test_predict)"
      ],
      "metadata": {
        "id": "zqZUyG1sNOQN"
      },
      "execution_count": 23,
      "outputs": []
    },
    {
      "cell_type": "code",
      "source": [
        "#calculate RMSE performance matrices\n",
        "import math\n",
        "from sklearn.metrics import mean_squared_error\n",
        "math.sqrt(mean_squared_error(y_train, train_predict))"
      ],
      "metadata": {
        "colab": {
          "base_uri": "https://localhost:8080/"
        },
        "id": "g3NNuFQYNq8v",
        "outputId": "df72e650-1395-473a-ea97-3c2b8929b089"
      },
      "execution_count": 27,
      "outputs": [
        {
          "output_type": "execute_result",
          "data": {
            "text/plain": [
              "167.2865496917461"
            ]
          },
          "metadata": {},
          "execution_count": 27
        }
      ]
    },
    {
      "cell_type": "code",
      "source": [
        "#test data RMSE\n",
        "math.sqrt(mean_squared_error(y_test, test_predict))"
      ],
      "metadata": {
        "colab": {
          "base_uri": "https://localhost:8080/"
        },
        "id": "zMzrH2xlOJ9w",
        "outputId": "37d7aefc-7576-496f-fc80-21e3103c1953"
      },
      "execution_count": 28,
      "outputs": [
        {
          "output_type": "execute_result",
          "data": {
            "text/plain": [
              "108.19081636656506"
            ]
          },
          "metadata": {},
          "execution_count": 28
        }
      ]
    },
    {
      "cell_type": "code",
      "source": [
        "#plotting\n",
        "\n",
        "#Shift train prediction for plotting\n",
        "look_back = 100\n",
        "trainPredictPlot = np.empty_like(data_close)\n",
        "trainPredictPlot[:,:] = np.nan\n",
        "trainPredictPlot[look_back:len(train_predict) + look_back, :]= train_predict\n",
        "\n",
        "#Shift train prediction for plotting\n",
        "testPredictPlot = np.empty_like(data_close)\n",
        "testPredictPlot[:,:] = np.nan\n",
        "testPredictPlot[len(train_predict) + (look_back * 2) + 1:len (data_close) - 1, :]=test_predict\n",
        "\n",
        "#Plot baseline and predictions\n",
        "plt.plot(scaler.inverse_transform(data_close))\n",
        "plt.plot(trainPredictPlot)\n",
        "plt.plot(testPredictPlot)\n",
        "plt.show()"
      ],
      "metadata": {
        "colab": {
          "base_uri": "https://localhost:8080/",
          "height": 265
        },
        "id": "k-zLIZttP3JV",
        "outputId": "ed97eaf7-791a-4656-ebc5-f9a81f0afff9"
      },
      "execution_count": 29,
      "outputs": [
        {
          "output_type": "display_data",
          "data": {
            "image/png": "[encoded data removed]",
            "text/plain": [
              "<Figure size 432x288 with 1 Axes>"
            ]
          },
          "metadata": {
            "needs_background": "light"
          }
        }
      ]
    },
    {
      "cell_type": "markdown",
      "source": [
        "Predict the next 30 days Stock Price"
      ],
      "metadata": {
        "id": "7RzuxdmzSPkK"
      }
    },
    {
      "cell_type": "code",
      "source": [
        "len(test_data), x_test.shape"
      ],
      "metadata": {
        "colab": {
          "base_uri": "https://localhost:8080/"
        },
        "id": "fpJpjqT4SJzv",
        "outputId": "795ae865-eb38-40f7-9dd8-70ae7b514eee"
      },
      "execution_count": 30,
      "outputs": [
        {
          "output_type": "execute_result",
          "data": {
            "text/plain": [
              "(509, (408, 100, 1))"
            ]
          },
          "metadata": {},
          "execution_count": 30
        }
      ]
    },
    {
      "cell_type": "code",
      "source": [
        "x_input = test_data[409:].reshape(1,-1)\n",
        "x_input.shape"
      ],
      "metadata": {
        "colab": {
          "base_uri": "https://localhost:8080/"
        },
        "id": "11qpBH-TScOY",
        "outputId": "a54168ee-3e11-4f8d-9ddf-eb940401cd45"
      },
      "execution_count": 31,
      "outputs": [
        {
          "output_type": "execute_result",
          "data": {
            "text/plain": [
              "(1, 100)"
            ]
          },
          "metadata": {},
          "execution_count": 31
        }
      ]
    },
    {
      "cell_type": "code",
      "source": [
        "temp_input = list (x_input)\n",
        "temp_input = temp_input[0].tolist()"
      ],
      "metadata": {
        "id": "QCvoDUz1SpXL"
      },
      "execution_count": 32,
      "outputs": []
    },
    {
      "cell_type": "code",
      "source": [
        "first_output =[]\n",
        "n_steps = 100\n",
        "nextNumberOfDays = 30\n",
        "i = 0\n",
        "\n",
        "while (i<nextNumberOfDays):\n",
        "\n",
        "  if(len(temp_input)>100):\n",
        "    x_input = np.array(temp_input[1:])\n",
        "    print(\"{}day input{}\".format(i, x_input))\n",
        "    x_input = x_input.reshape(1,-1)\n",
        "    x_input = x_input.reshape((1, n_steps, 1))\n",
        "    yhat = model.predict(x_input, verbose = 0)\n",
        "    print(\"{} day output {}\".format(i,yhat))\n",
        "    temp_input.extend(yhat[0].tolist())\n",
        "    temp_input = temp_input[1:]\n",
        "    first_output.extend(yhat.tolist())\n",
        "    i=i+1\n",
        "  else:\n",
        "    x_input = x_input.reshape((1, n_steps, 1))\n",
        "    yhat = model.predict(x_input, verbose = 0)\n",
        "    print(yhat[0])\n",
        "    temp_input.extend(yhat[0].tolist())\n",
        "    print(len(temp_input))\n",
        "    first_output.extend(yhat.tolist())\n",
        "    i = i + 1\n",
        "\n",
        "print(first_output)\n"
      ],
      "metadata": {
        "colab": {
          "base_uri": "https://localhost:8080/"
        },
        "id": "l6rzHeYVTAMr",
        "outputId": "e6fb5da9-e99f-460e-995b-5b160ad47fae"
      },
      "execution_count": 39,
      "outputs": [
        {
          "output_type": "stream",
          "name": "stdout",
          "text": [
            "[0.17599723]\n",
            "101\n",
            "1day input[0.13848039 0.14011438 0.13888889 0.13541667 0.14011438 0.1380719\n",
            " 0.13071895 0.13071895 0.12867647 0.11846405 0.14644608 0.14808007\n",
            " 0.15910948 0.15992647 0.15788399 0.16441993 0.17892157 0.17933007\n",
            " 0.19260621 0.20812908 0.18974673 0.18055556 0.18239379 0.17708333\n",
            " 0.17810458 0.18055556 0.17810458 0.17851307 0.19607843 0.18913399\n",
            " 0.18954248 0.19403595 0.19444444 0.20200163 0.19771242 0.19934641\n",
            " 0.19873366 0.1997549  0.2128268  0.21568627 0.20445261 0.21772876\n",
            " 0.21098856 0.21425654 0.19750817 0.18811275 0.17851307 0.17381536\n",
            " 0.16033497 0.16564542 0.17116013 0.17422386 0.18035131 0.17401961\n",
            " 0.16278595 0.16973039 0.17810458 0.17034314 0.16830065 0.17279412\n",
            " 0.17544935 0.18382353 0.19138072 0.18913399 0.19097222 0.17238562\n",
            " 0.16830065 0.1693219  0.17177288 0.16156046 0.14971405 0.1503268\n",
            " 0.15196078 0.14726307 0.14501634 0.14603758 0.12479575 0.13112745\n",
            " 0.11397059 0.1190768  0.12377451 0.13562092 0.12908497 0.13459967\n",
            " 0.12806373 0.13031046 0.12724673 0.13521242 0.14522059 0.15257353\n",
            " 0.14848856 0.14338235 0.14562908 0.15236928 0.15400327 0.14971405\n",
            " 0.1621732  0.16319444 0.16584967 0.17599723]\n",
            "1 day output [[0.1814752]]\n",
            "2day input[0.14011438 0.13888889 0.13541667 0.14011438 0.1380719  0.13071895\n",
            " 0.13071895 0.12867647 0.11846405 0.14644608 0.14808007 0.15910948\n",
            " 0.15992647 0.15788399 0.16441993 0.17892157 0.17933007 0.19260621\n",
            " 0.20812908 0.18974673 0.18055556 0.18239379 0.17708333 0.17810458\n",
            " 0.18055556 0.17810458 0.17851307 0.19607843 0.18913399 0.18954248\n",
            " 0.19403595 0.19444444 0.20200163 0.19771242 0.19934641 0.19873366\n",
            " 0.1997549  0.2128268  0.21568627 0.20445261 0.21772876 0.21098856\n",
            " 0.21425654 0.19750817 0.18811275 0.17851307 0.17381536 0.16033497\n",
            " 0.16564542 0.17116013 0.17422386 0.18035131 0.17401961 0.16278595\n",
            " 0.16973039 0.17810458 0.17034314 0.16830065 0.17279412 0.17544935\n",
            " 0.18382353 0.19138072 0.18913399 0.19097222 0.17238562 0.16830065\n",
            " 0.1693219  0.17177288 0.16156046 0.14971405 0.1503268  0.15196078\n",
            " 0.14726307 0.14501634 0.14603758 0.12479575 0.13112745 0.11397059\n",
            " 0.1190768  0.12377451 0.13562092 0.12908497 0.13459967 0.12806373\n",
            " 0.13031046 0.12724673 0.13521242 0.14522059 0.15257353 0.14848856\n",
            " 0.14338235 0.14562908 0.15236928 0.15400327 0.14971405 0.1621732\n",
            " 0.16319444 0.16584967 0.17599723 0.18147521]\n",
            "2 day output [[0.18788622]]\n",
            "3day input[0.13888889 0.13541667 0.14011438 0.1380719  0.13071895 0.13071895\n",
            " 0.12867647 0.11846405 0.14644608 0.14808007 0.15910948 0.15992647\n",
            " 0.15788399 0.16441993 0.17892157 0.17933007 0.19260621 0.20812908\n",
            " 0.18974673 0.18055556 0.18239379 0.17708333 0.17810458 0.18055556\n",
            " 0.17810458 0.17851307 0.19607843 0.18913399 0.18954248 0.19403595\n",
            " 0.19444444 0.20200163 0.19771242 0.19934641 0.19873366 0.1997549\n",
            " 0.2128268  0.21568627 0.20445261 0.21772876 0.21098856 0.21425654\n",
            " 0.19750817 0.18811275 0.17851307 0.17381536 0.16033497 0.16564542\n",
            " 0.17116013 0.17422386 0.18035131 0.17401961 0.16278595 0.16973039\n",
            " 0.17810458 0.17034314 0.16830065 0.17279412 0.17544935 0.18382353\n",
            " 0.19138072 0.18913399 0.19097222 0.17238562 0.16830065 0.1693219\n",
            " 0.17177288 0.16156046 0.14971405 0.1503268  0.15196078 0.14726307\n",
            " 0.14501634 0.14603758 0.12479575 0.13112745 0.11397059 0.1190768\n",
            " 0.12377451 0.13562092 0.12908497 0.13459967 0.12806373 0.13031046\n",
            " 0.12724673 0.13521242 0.14522059 0.15257353 0.14848856 0.14338235\n",
            " 0.14562908 0.15236928 0.15400327 0.14971405 0.1621732  0.16319444\n",
            " 0.16584967 0.17599723 0.18147521 0.18788622]\n",
            "3 day output [[0.19454825]]\n",
            "4day input[0.13541667 0.14011438 0.1380719  0.13071895 0.13071895 0.12867647\n",
            " 0.11846405 0.14644608 0.14808007 0.15910948 0.15992647 0.15788399\n",
            " 0.16441993 0.17892157 0.17933007 0.19260621 0.20812908 0.18974673\n",
            " 0.18055556 0.18239379 0.17708333 0.17810458 0.18055556 0.17810458\n",
            " 0.17851307 0.19607843 0.18913399 0.18954248 0.19403595 0.19444444\n",
            " 0.20200163 0.19771242 0.19934641 0.19873366 0.1997549  0.2128268\n",
            " 0.21568627 0.20445261 0.21772876 0.21098856 0.21425654 0.19750817\n",
            " 0.18811275 0.17851307 0.17381536 0.16033497 0.16564542 0.17116013\n",
            " 0.17422386 0.18035131 0.17401961 0.16278595 0.16973039 0.17810458\n",
            " 0.17034314 0.16830065 0.17279412 0.17544935 0.18382353 0.19138072\n",
            " 0.18913399 0.19097222 0.17238562 0.16830065 0.1693219  0.17177288\n",
            " 0.16156046 0.14971405 0.1503268  0.15196078 0.14726307 0.14501634\n",
            " 0.14603758 0.12479575 0.13112745 0.11397059 0.1190768  0.12377451\n",
            " 0.13562092 0.12908497 0.13459967 0.12806373 0.13031046 0.12724673\n",
            " 0.13521242 0.14522059 0.15257353 0.14848856 0.14338235 0.14562908\n",
            " 0.15236928 0.15400327 0.14971405 0.1621732  0.16319444 0.16584967\n",
            " 0.17599723 0.18147521 0.18788622 0.19454825]\n",
            "4 day output [[0.20117435]]\n",
            "5day input[0.14011438 0.1380719  0.13071895 0.13071895 0.12867647 0.11846405\n",
            " 0.14644608 0.14808007 0.15910948 0.15992647 0.15788399 0.16441993\n",
            " 0.17892157 0.17933007 0.19260621 0.20812908 0.18974673 0.18055556\n",
            " 0.18239379 0.17708333 0.17810458 0.18055556 0.17810458 0.17851307\n",
            " 0.19607843 0.18913399 0.18954248 0.19403595 0.19444444 0.20200163\n",
            " 0.19771242 0.19934641 0.19873366 0.1997549  0.2128268  0.21568627\n",
            " 0.20445261 0.21772876 0.21098856 0.21425654 0.19750817 0.18811275\n",
            " 0.17851307 0.17381536 0.16033497 0.16564542 0.17116013 0.17422386\n",
            " 0.18035131 0.17401961 0.16278595 0.16973039 0.17810458 0.17034314\n",
            " 0.16830065 0.17279412 0.17544935 0.18382353 0.19138072 0.18913399\n",
            " 0.19097222 0.17238562 0.16830065 0.1693219  0.17177288 0.16156046\n",
            " 0.14971405 0.1503268  0.15196078 0.14726307 0.14501634 0.14603758\n",
            " 0.12479575 0.13112745 0.11397059 0.1190768  0.12377451 0.13562092\n",
            " 0.12908497 0.13459967 0.12806373 0.13031046 0.12724673 0.13521242\n",
            " 0.14522059 0.15257353 0.14848856 0.14338235 0.14562908 0.15236928\n",
            " 0.15400327 0.14971405 0.1621732  0.16319444 0.16584967 0.17599723\n",
            " 0.18147521 0.18788622 0.19454825 0.20117435]\n",
            "5 day output [[0.20770803]]\n",
            "6day input[0.1380719  0.13071895 0.13071895 0.12867647 0.11846405 0.14644608\n",
            " 0.14808007 0.15910948 0.15992647 0.15788399 0.16441993 0.17892157\n",
            " 0.17933007 0.19260621 0.20812908 0.18974673 0.18055556 0.18239379\n",
            " 0.17708333 0.17810458 0.18055556 0.17810458 0.17851307 0.19607843\n",
            " 0.18913399 0.18954248 0.19403595 0.19444444 0.20200163 0.19771242\n",
            " 0.19934641 0.19873366 0.1997549  0.2128268  0.21568627 0.20445261\n",
            " 0.21772876 0.21098856 0.21425654 0.19750817 0.18811275 0.17851307\n",
            " 0.17381536 0.16033497 0.16564542 0.17116013 0.17422386 0.18035131\n",
            " 0.17401961 0.16278595 0.16973039 0.17810458 0.17034314 0.16830065\n",
            " 0.17279412 0.17544935 0.18382353 0.19138072 0.18913399 0.19097222\n",
            " 0.17238562 0.16830065 0.1693219  0.17177288 0.16156046 0.14971405\n",
            " 0.1503268  0.15196078 0.14726307 0.14501634 0.14603758 0.12479575\n",
            " 0.13112745 0.11397059 0.1190768  0.12377451 0.13562092 0.12908497\n",
            " 0.13459967 0.12806373 0.13031046 0.12724673 0.13521242 0.14522059\n",
            " 0.15257353 0.14848856 0.14338235 0.14562908 0.15236928 0.15400327\n",
            " 0.14971405 0.1621732  0.16319444 0.16584967 0.17599723 0.18147521\n",
            " 0.18788622 0.19454825 0.20117435 0.20770803]\n",
            "6 day output [[0.21416475]]\n",
            "7day input[0.13071895 0.13071895 0.12867647 0.11846405 0.14644608 0.14808007\n",
            " 0.15910948 0.15992647 0.15788399 0.16441993 0.17892157 0.17933007\n",
            " 0.19260621 0.20812908 0.18974673 0.18055556 0.18239379 0.17708333\n",
            " 0.17810458 0.18055556 0.17810458 0.17851307 0.19607843 0.18913399\n",
            " 0.18954248 0.19403595 0.19444444 0.20200163 0.19771242 0.19934641\n",
            " 0.19873366 0.1997549  0.2128268  0.21568627 0.20445261 0.21772876\n",
            " 0.21098856 0.21425654 0.19750817 0.18811275 0.17851307 0.17381536\n",
            " 0.16033497 0.16564542 0.17116013 0.17422386 0.18035131 0.17401961\n",
            " 0.16278595 0.16973039 0.17810458 0.17034314 0.16830065 0.17279412\n",
            " 0.17544935 0.18382353 0.19138072 0.18913399 0.19097222 0.17238562\n",
            " 0.16830065 0.1693219  0.17177288 0.16156046 0.14971405 0.1503268\n",
            " 0.15196078 0.14726307 0.14501634 0.14603758 0.12479575 0.13112745\n",
            " 0.11397059 0.1190768  0.12377451 0.13562092 0.12908497 0.13459967\n",
            " 0.12806373 0.13031046 0.12724673 0.13521242 0.14522059 0.15257353\n",
            " 0.14848856 0.14338235 0.14562908 0.15236928 0.15400327 0.14971405\n",
            " 0.1621732  0.16319444 0.16584967 0.17599723 0.18147521 0.18788622\n",
            " 0.19454825 0.20117435 0.20770803 0.21416475]\n",
            "7 day output [[0.22056681]]\n",
            "8day input[0.13071895 0.12867647 0.11846405 0.14644608 0.14808007 0.15910948\n",
            " 0.15992647 0.15788399 0.16441993 0.17892157 0.17933007 0.19260621\n",
            " 0.20812908 0.18974673 0.18055556 0.18239379 0.17708333 0.17810458\n",
            " 0.18055556 0.17810458 0.17851307 0.19607843 0.18913399 0.18954248\n",
            " 0.19403595 0.19444444 0.20200163 0.19771242 0.19934641 0.19873366\n",
            " 0.1997549  0.2128268  0.21568627 0.20445261 0.21772876 0.21098856\n",
            " 0.21425654 0.19750817 0.18811275 0.17851307 0.17381536 0.16033497\n",
            " 0.16564542 0.17116013 0.17422386 0.18035131 0.17401961 0.16278595\n",
            " 0.16973039 0.17810458 0.17034314 0.16830065 0.17279412 0.17544935\n",
            " 0.18382353 0.19138072 0.18913399 0.19097222 0.17238562 0.16830065\n",
            " 0.1693219  0.17177288 0.16156046 0.14971405 0.1503268  0.15196078\n",
            " 0.14726307 0.14501634 0.14603758 0.12479575 0.13112745 0.11397059\n",
            " 0.1190768  0.12377451 0.13562092 0.12908497 0.13459967 0.12806373\n",
            " 0.13031046 0.12724673 0.13521242 0.14522059 0.15257353 0.14848856\n",
            " 0.14338235 0.14562908 0.15236928 0.15400327 0.14971405 0.1621732\n",
            " 0.16319444 0.16584967 0.17599723 0.18147521 0.18788622 0.19454825\n",
            " 0.20117435 0.20770803 0.21416475 0.22056681]\n",
            "8 day output [[0.22693089]]\n",
            "9day input[0.12867647 0.11846405 0.14644608 0.14808007 0.15910948 0.15992647\n",
            " 0.15788399 0.16441993 0.17892157 0.17933007 0.19260621 0.20812908\n",
            " 0.18974673 0.18055556 0.18239379 0.17708333 0.17810458 0.18055556\n",
            " 0.17810458 0.17851307 0.19607843 0.18913399 0.18954248 0.19403595\n",
            " 0.19444444 0.20200163 0.19771242 0.19934641 0.19873366 0.1997549\n",
            " 0.2128268  0.21568627 0.20445261 0.21772876 0.21098856 0.21425654\n",
            " 0.19750817 0.18811275 0.17851307 0.17381536 0.16033497 0.16564542\n",
            " 0.17116013 0.17422386 0.18035131 0.17401961 0.16278595 0.16973039\n",
            " 0.17810458 0.17034314 0.16830065 0.17279412 0.17544935 0.18382353\n",
            " 0.19138072 0.18913399 0.19097222 0.17238562 0.16830065 0.1693219\n",
            " 0.17177288 0.16156046 0.14971405 0.1503268  0.15196078 0.14726307\n",
            " 0.14501634 0.14603758 0.12479575 0.13112745 0.11397059 0.1190768\n",
            " 0.12377451 0.13562092 0.12908497 0.13459967 0.12806373 0.13031046\n",
            " 0.12724673 0.13521242 0.14522059 0.15257353 0.14848856 0.14338235\n",
            " 0.14562908 0.15236928 0.15400327 0.14971405 0.1621732  0.16319444\n",
            " 0.16584967 0.17599723 0.18147521 0.18788622 0.19454825 0.20117435\n",
            " 0.20770803 0.21416475 0.22056681 0.22693089]\n",
            "9 day output [[0.23327027]]\n",
            "10day input[0.11846405 0.14644608 0.14808007 0.15910948 0.15992647 0.15788399\n",
            " 0.16441993 0.17892157 0.17933007 0.19260621 0.20812908 0.18974673\n",
            " 0.18055556 0.18239379 0.17708333 0.17810458 0.18055556 0.17810458\n",
            " 0.17851307 0.19607843 0.18913399 0.18954248 0.19403595 0.19444444\n",
            " 0.20200163 0.19771242 0.19934641 0.19873366 0.1997549  0.2128268\n",
            " 0.21568627 0.20445261 0.21772876 0.21098856 0.21425654 0.19750817\n",
            " 0.18811275 0.17851307 0.17381536 0.16033497 0.16564542 0.17116013\n",
            " 0.17422386 0.18035131 0.17401961 0.16278595 0.16973039 0.17810458\n",
            " 0.17034314 0.16830065 0.17279412 0.17544935 0.18382353 0.19138072\n",
            " 0.18913399 0.19097222 0.17238562 0.16830065 0.1693219  0.17177288\n",
            " 0.16156046 0.14971405 0.1503268  0.15196078 0.14726307 0.14501634\n",
            " 0.14603758 0.12479575 0.13112745 0.11397059 0.1190768  0.12377451\n",
            " 0.13562092 0.12908497 0.13459967 0.12806373 0.13031046 0.12724673\n",
            " 0.13521242 0.14522059 0.15257353 0.14848856 0.14338235 0.14562908\n",
            " 0.15236928 0.15400327 0.14971405 0.1621732  0.16319444 0.16584967\n",
            " 0.17599723 0.18147521 0.18788622 0.19454825 0.20117435 0.20770803\n",
            " 0.21416475 0.22056681 0.22693089 0.23327027]\n",
            "10 day output [[0.23959793]]\n",
            "11day input[0.14644608 0.14808007 0.15910948 0.15992647 0.15788399 0.16441993\n",
            " 0.17892157 0.17933007 0.19260621 0.20812908 0.18974673 0.18055556\n",
            " 0.18239379 0.17708333 0.17810458 0.18055556 0.17810458 0.17851307\n",
            " 0.19607843 0.18913399 0.18954248 0.19403595 0.19444444 0.20200163\n",
            " 0.19771242 0.19934641 0.19873366 0.1997549  0.2128268  0.21568627\n",
            " 0.20445261 0.21772876 0.21098856 0.21425654 0.19750817 0.18811275\n",
            " 0.17851307 0.17381536 0.16033497 0.16564542 0.17116013 0.17422386\n",
            " 0.18035131 0.17401961 0.16278595 0.16973039 0.17810458 0.17034314\n",
            " 0.16830065 0.17279412 0.17544935 0.18382353 0.19138072 0.18913399\n",
            " 0.19097222 0.17238562 0.16830065 0.1693219  0.17177288 0.16156046\n",
            " 0.14971405 0.1503268  0.15196078 0.14726307 0.14501634 0.14603758\n",
            " 0.12479575 0.13112745 0.11397059 0.1190768  0.12377451 0.13562092\n",
            " 0.12908497 0.13459967 0.12806373 0.13031046 0.12724673 0.13521242\n",
            " 0.14522059 0.15257353 0.14848856 0.14338235 0.14562908 0.15236928\n",
            " 0.15400327 0.14971405 0.1621732  0.16319444 0.16584967 0.17599723\n",
            " 0.18147521 0.18788622 0.19454825 0.20117435 0.20770803 0.21416475\n",
            " 0.22056681 0.22693089 0.23327027 0.23959793]\n",
            "11 day output [[0.24592689]]\n",
            "12day input[0.14808007 0.15910948 0.15992647 0.15788399 0.16441993 0.17892157\n",
            " 0.17933007 0.19260621 0.20812908 0.18974673 0.18055556 0.18239379\n",
            " 0.17708333 0.17810458 0.18055556 0.17810458 0.17851307 0.19607843\n",
            " 0.18913399 0.18954248 0.19403595 0.19444444 0.20200163 0.19771242\n",
            " 0.19934641 0.19873366 0.1997549  0.2128268  0.21568627 0.20445261\n",
            " 0.21772876 0.21098856 0.21425654 0.19750817 0.18811275 0.17851307\n",
            " 0.17381536 0.16033497 0.16564542 0.17116013 0.17422386 0.18035131\n",
            " 0.17401961 0.16278595 0.16973039 0.17810458 0.17034314 0.16830065\n",
            " 0.17279412 0.17544935 0.18382353 0.19138072 0.18913399 0.19097222\n",
            " 0.17238562 0.16830065 0.1693219  0.17177288 0.16156046 0.14971405\n",
            " 0.1503268  0.15196078 0.14726307 0.14501634 0.14603758 0.12479575\n",
            " 0.13112745 0.11397059 0.1190768  0.12377451 0.13562092 0.12908497\n",
            " 0.13459967 0.12806373 0.13031046 0.12724673 0.13521242 0.14522059\n",
            " 0.15257353 0.14848856 0.14338235 0.14562908 0.15236928 0.15400327\n",
            " 0.14971405 0.1621732  0.16319444 0.16584967 0.17599723 0.18147521\n",
            " 0.18788622 0.19454825 0.20117435 0.20770803 0.21416475 0.22056681\n",
            " 0.22693089 0.23327027 0.23959793 0.24592689]\n",
            "12 day output [[0.25227]]\n",
            "13day input[0.15910948 0.15992647 0.15788399 0.16441993 0.17892157 0.17933007\n",
            " 0.19260621 0.20812908 0.18974673 0.18055556 0.18239379 0.17708333\n",
            " 0.17810458 0.18055556 0.17810458 0.17851307 0.19607843 0.18913399\n",
            " 0.18954248 0.19403595 0.19444444 0.20200163 0.19771242 0.19934641\n",
            " 0.19873366 0.1997549  0.2128268  0.21568627 0.20445261 0.21772876\n",
            " 0.21098856 0.21425654 0.19750817 0.18811275 0.17851307 0.17381536\n",
            " 0.16033497 0.16564542 0.17116013 0.17422386 0.18035131 0.17401961\n",
            " 0.16278595 0.16973039 0.17810458 0.17034314 0.16830065 0.17279412\n",
            " 0.17544935 0.18382353 0.19138072 0.18913399 0.19097222 0.17238562\n",
            " 0.16830065 0.1693219  0.17177288 0.16156046 0.14971405 0.1503268\n",
            " 0.15196078 0.14726307 0.14501634 0.14603758 0.12479575 0.13112745\n",
            " 0.11397059 0.1190768  0.12377451 0.13562092 0.12908497 0.13459967\n",
            " 0.12806373 0.13031046 0.12724673 0.13521242 0.14522059 0.15257353\n",
            " 0.14848856 0.14338235 0.14562908 0.15236928 0.15400327 0.14971405\n",
            " 0.1621732  0.16319444 0.16584967 0.17599723 0.18147521 0.18788622\n",
            " 0.19454825 0.20117435 0.20770803 0.21416475 0.22056681 0.22693089\n",
            " 0.23327027 0.23959793 0.24592689 0.25227001]\n",
            "13 day output [[0.25864008]]\n",
            "14day input[0.15992647 0.15788399 0.16441993 0.17892157 0.17933007 0.19260621\n",
            " 0.20812908 0.18974673 0.18055556 0.18239379 0.17708333 0.17810458\n",
            " 0.18055556 0.17810458 0.17851307 0.19607843 0.18913399 0.18954248\n",
            " 0.19403595 0.19444444 0.20200163 0.19771242 0.19934641 0.19873366\n",
            " 0.1997549  0.2128268  0.21568627 0.20445261 0.21772876 0.21098856\n",
            " 0.21425654 0.19750817 0.18811275 0.17851307 0.17381536 0.16033497\n",
            " 0.16564542 0.17116013 0.17422386 0.18035131 0.17401961 0.16278595\n",
            " 0.16973039 0.17810458 0.17034314 0.16830065 0.17279412 0.17544935\n",
            " 0.18382353 0.19138072 0.18913399 0.19097222 0.17238562 0.16830065\n",
            " 0.1693219  0.17177288 0.16156046 0.14971405 0.1503268  0.15196078\n",
            " 0.14726307 0.14501634 0.14603758 0.12479575 0.13112745 0.11397059\n",
            " 0.1190768  0.12377451 0.13562092 0.12908497 0.13459967 0.12806373\n",
            " 0.13031046 0.12724673 0.13521242 0.14522059 0.15257353 0.14848856\n",
            " 0.14338235 0.14562908 0.15236928 0.15400327 0.14971405 0.1621732\n",
            " 0.16319444 0.16584967 0.17599723 0.18147521 0.18788622 0.19454825\n",
            " 0.20117435 0.20770803 0.21416475 0.22056681 0.22693089 0.23327027\n",
            " 0.23959793 0.24592689 0.25227001 0.25864008]\n",
            "14 day output [[0.26504964]]\n",
            "15day input[0.15788399 0.16441993 0.17892157 0.17933007 0.19260621 0.20812908\n",
            " 0.18974673 0.18055556 0.18239379 0.17708333 0.17810458 0.18055556\n",
            " 0.17810458 0.17851307 0.19607843 0.18913399 0.18954248 0.19403595\n",
            " 0.19444444 0.20200163 0.19771242 0.19934641 0.19873366 0.1997549\n",
            " 0.2128268  0.21568627 0.20445261 0.21772876 0.21098856 0.21425654\n",
            " 0.19750817 0.18811275 0.17851307 0.17381536 0.16033497 0.16564542\n",
            " 0.17116013 0.17422386 0.18035131 0.17401961 0.16278595 0.16973039\n",
            " 0.17810458 0.17034314 0.16830065 0.17279412 0.17544935 0.18382353\n",
            " 0.19138072 0.18913399 0.19097222 0.17238562 0.16830065 0.1693219\n",
            " 0.17177288 0.16156046 0.14971405 0.1503268  0.15196078 0.14726307\n",
            " 0.14501634 0.14603758 0.12479575 0.13112745 0.11397059 0.1190768\n",
            " 0.12377451 0.13562092 0.12908497 0.13459967 0.12806373 0.13031046\n",
            " 0.12724673 0.13521242 0.14522059 0.15257353 0.14848856 0.14338235\n",
            " 0.14562908 0.15236928 0.15400327 0.14971405 0.1621732  0.16319444\n",
            " 0.16584967 0.17599723 0.18147521 0.18788622 0.19454825 0.20117435\n",
            " 0.20770803 0.21416475 0.22056681 0.22693089 0.23327027 0.23959793\n",
            " 0.24592689 0.25227001 0.25864008 0.26504964]\n",
            "15 day output [[0.27151072]]\n",
            "16day input[0.16441993 0.17892157 0.17933007 0.19260621 0.20812908 0.18974673\n",
            " 0.18055556 0.18239379 0.17708333 0.17810458 0.18055556 0.17810458\n",
            " 0.17851307 0.19607843 0.18913399 0.18954248 0.19403595 0.19444444\n",
            " 0.20200163 0.19771242 0.19934641 0.19873366 0.1997549  0.2128268\n",
            " 0.21568627 0.20445261 0.21772876 0.21098856 0.21425654 0.19750817\n",
            " 0.18811275 0.17851307 0.17381536 0.16033497 0.16564542 0.17116013\n",
            " 0.17422386 0.18035131 0.17401961 0.16278595 0.16973039 0.17810458\n",
            " 0.17034314 0.16830065 0.17279412 0.17544935 0.18382353 0.19138072\n",
            " 0.18913399 0.19097222 0.17238562 0.16830065 0.1693219  0.17177288\n",
            " 0.16156046 0.14971405 0.1503268  0.15196078 0.14726307 0.14501634\n",
            " 0.14603758 0.12479575 0.13112745 0.11397059 0.1190768  0.12377451\n",
            " 0.13562092 0.12908497 0.13459967 0.12806373 0.13031046 0.12724673\n",
            " 0.13521242 0.14522059 0.15257353 0.14848856 0.14338235 0.14562908\n",
            " 0.15236928 0.15400327 0.14971405 0.1621732  0.16319444 0.16584967\n",
            " 0.17599723 0.18147521 0.18788622 0.19454825 0.20117435 0.20770803\n",
            " 0.21416475 0.22056681 0.22693089 0.23327027 0.23959793 0.24592689\n",
            " 0.25227001 0.25864008 0.26504964 0.27151072]\n",
            "16 day output [[0.27803522]]\n",
            "17day input[0.17892157 0.17933007 0.19260621 0.20812908 0.18974673 0.18055556\n",
            " 0.18239379 0.17708333 0.17810458 0.18055556 0.17810458 0.17851307\n",
            " 0.19607843 0.18913399 0.18954248 0.19403595 0.19444444 0.20200163\n",
            " 0.19771242 0.19934641 0.19873366 0.1997549  0.2128268  0.21568627\n",
            " 0.20445261 0.21772876 0.21098856 0.21425654 0.19750817 0.18811275\n",
            " 0.17851307 0.17381536 0.16033497 0.16564542 0.17116013 0.17422386\n",
            " 0.18035131 0.17401961 0.16278595 0.16973039 0.17810458 0.17034314\n",
            " 0.16830065 0.17279412 0.17544935 0.18382353 0.19138072 0.18913399\n",
            " 0.19097222 0.17238562 0.16830065 0.1693219  0.17177288 0.16156046\n",
            " 0.14971405 0.1503268  0.15196078 0.14726307 0.14501634 0.14603758\n",
            " 0.12479575 0.13112745 0.11397059 0.1190768  0.12377451 0.13562092\n",
            " 0.12908497 0.13459967 0.12806373 0.13031046 0.12724673 0.13521242\n",
            " 0.14522059 0.15257353 0.14848856 0.14338235 0.14562908 0.15236928\n",
            " 0.15400327 0.14971405 0.1621732  0.16319444 0.16584967 0.17599723\n",
            " 0.18147521 0.18788622 0.19454825 0.20117435 0.20770803 0.21416475\n",
            " 0.22056681 0.22693089 0.23327027 0.23959793 0.24592689 0.25227001\n",
            " 0.25864008 0.26504964 0.27151072 0.27803522]\n",
            "17 day output [[0.28463453]]\n",
            "18day input[0.17933007 0.19260621 0.20812908 0.18974673 0.18055556 0.18239379\n",
            " 0.17708333 0.17810458 0.18055556 0.17810458 0.17851307 0.19607843\n",
            " 0.18913399 0.18954248 0.19403595 0.19444444 0.20200163 0.19771242\n",
            " 0.19934641 0.19873366 0.1997549  0.2128268  0.21568627 0.20445261\n",
            " 0.21772876 0.21098856 0.21425654 0.19750817 0.18811275 0.17851307\n",
            " 0.17381536 0.16033497 0.16564542 0.17116013 0.17422386 0.18035131\n",
            " 0.17401961 0.16278595 0.16973039 0.17810458 0.17034314 0.16830065\n",
            " 0.17279412 0.17544935 0.18382353 0.19138072 0.18913399 0.19097222\n",
            " 0.17238562 0.16830065 0.1693219  0.17177288 0.16156046 0.14971405\n",
            " 0.1503268  0.15196078 0.14726307 0.14501634 0.14603758 0.12479575\n",
            " 0.13112745 0.11397059 0.1190768  0.12377451 0.13562092 0.12908497\n",
            " 0.13459967 0.12806373 0.13031046 0.12724673 0.13521242 0.14522059\n",
            " 0.15257353 0.14848856 0.14338235 0.14562908 0.15236928 0.15400327\n",
            " 0.14971405 0.1621732  0.16319444 0.16584967 0.17599723 0.18147521\n",
            " 0.18788622 0.19454825 0.20117435 0.20770803 0.21416475 0.22056681\n",
            " 0.22693089 0.23327027 0.23959793 0.24592689 0.25227001 0.25864008\n",
            " 0.26504964 0.27151072 0.27803522 0.28463453]\n",
            "18 day output [[0.29131964]]\n",
            "19day input[0.19260621 0.20812908 0.18974673 0.18055556 0.18239379 0.17708333\n",
            " 0.17810458 0.18055556 0.17810458 0.17851307 0.19607843 0.18913399\n",
            " 0.18954248 0.19403595 0.19444444 0.20200163 0.19771242 0.19934641\n",
            " 0.19873366 0.1997549  0.2128268  0.21568627 0.20445261 0.21772876\n",
            " 0.21098856 0.21425654 0.19750817 0.18811275 0.17851307 0.17381536\n",
            " 0.16033497 0.16564542 0.17116013 0.17422386 0.18035131 0.17401961\n",
            " 0.16278595 0.16973039 0.17810458 0.17034314 0.16830065 0.17279412\n",
            " 0.17544935 0.18382353 0.19138072 0.18913399 0.19097222 0.17238562\n",
            " 0.16830065 0.1693219  0.17177288 0.16156046 0.14971405 0.1503268\n",
            " 0.15196078 0.14726307 0.14501634 0.14603758 0.12479575 0.13112745\n",
            " 0.11397059 0.1190768  0.12377451 0.13562092 0.12908497 0.13459967\n",
            " 0.12806373 0.13031046 0.12724673 0.13521242 0.14522059 0.15257353\n",
            " 0.14848856 0.14338235 0.14562908 0.15236928 0.15400327 0.14971405\n",
            " 0.1621732  0.16319444 0.16584967 0.17599723 0.18147521 0.18788622\n",
            " 0.19454825 0.20117435 0.20770803 0.21416475 0.22056681 0.22693089\n",
            " 0.23327027 0.23959793 0.24592689 0.25227001 0.25864008 0.26504964\n",
            " 0.27151072 0.27803522 0.28463453 0.29131964]\n",
            "19 day output [[0.29810083]]\n",
            "20day input[0.20812908 0.18974673 0.18055556 0.18239379 0.17708333 0.17810458\n",
            " 0.18055556 0.17810458 0.17851307 0.19607843 0.18913399 0.18954248\n",
            " 0.19403595 0.19444444 0.20200163 0.19771242 0.19934641 0.19873366\n",
            " 0.1997549  0.2128268  0.21568627 0.20445261 0.21772876 0.21098856\n",
            " 0.21425654 0.19750817 0.18811275 0.17851307 0.17381536 0.16033497\n",
            " 0.16564542 0.17116013 0.17422386 0.18035131 0.17401961 0.16278595\n",
            " 0.16973039 0.17810458 0.17034314 0.16830065 0.17279412 0.17544935\n",
            " 0.18382353 0.19138072 0.18913399 0.19097222 0.17238562 0.16830065\n",
            " 0.1693219  0.17177288 0.16156046 0.14971405 0.1503268  0.15196078\n",
            " 0.14726307 0.14501634 0.14603758 0.12479575 0.13112745 0.11397059\n",
            " 0.1190768  0.12377451 0.13562092 0.12908497 0.13459967 0.12806373\n",
            " 0.13031046 0.12724673 0.13521242 0.14522059 0.15257353 0.14848856\n",
            " 0.14338235 0.14562908 0.15236928 0.15400327 0.14971405 0.1621732\n",
            " 0.16319444 0.16584967 0.17599723 0.18147521 0.18788622 0.19454825\n",
            " 0.20117435 0.20770803 0.21416475 0.22056681 0.22693089 0.23327027\n",
            " 0.23959793 0.24592689 0.25227001 0.25864008 0.26504964 0.27151072\n",
            " 0.27803522 0.28463453 0.29131964 0.29810083]\n",
            "20 day output [[0.30498797]]\n",
            "21day input[0.18974673 0.18055556 0.18239379 0.17708333 0.17810458 0.18055556\n",
            " 0.17810458 0.17851307 0.19607843 0.18913399 0.18954248 0.19403595\n",
            " 0.19444444 0.20200163 0.19771242 0.19934641 0.19873366 0.1997549\n",
            " 0.2128268  0.21568627 0.20445261 0.21772876 0.21098856 0.21425654\n",
            " 0.19750817 0.18811275 0.17851307 0.17381536 0.16033497 0.16564542\n",
            " 0.17116013 0.17422386 0.18035131 0.17401961 0.16278595 0.16973039\n",
            " 0.17810458 0.17034314 0.16830065 0.17279412 0.17544935 0.18382353\n",
            " 0.19138072 0.18913399 0.19097222 0.17238562 0.16830065 0.1693219\n",
            " 0.17177288 0.16156046 0.14971405 0.1503268  0.15196078 0.14726307\n",
            " 0.14501634 0.14603758 0.12479575 0.13112745 0.11397059 0.1190768\n",
            " 0.12377451 0.13562092 0.12908497 0.13459967 0.12806373 0.13031046\n",
            " 0.12724673 0.13521242 0.14522059 0.15257353 0.14848856 0.14338235\n",
            " 0.14562908 0.15236928 0.15400327 0.14971405 0.1621732  0.16319444\n",
            " 0.16584967 0.17599723 0.18147521 0.18788622 0.19454825 0.20117435\n",
            " 0.20770803 0.21416475 0.22056681 0.22693089 0.23327027 0.23959793\n",
            " 0.24592689 0.25227001 0.25864008 0.26504964 0.27151072 0.27803522\n",
            " 0.28463453 0.29131964 0.29810083 0.30498797]\n",
            "21 day output [[0.31199014]]\n",
            "22day input[0.18055556 0.18239379 0.17708333 0.17810458 0.18055556 0.17810458\n",
            " 0.17851307 0.19607843 0.18913399 0.18954248 0.19403595 0.19444444\n",
            " 0.20200163 0.19771242 0.19934641 0.19873366 0.1997549  0.2128268\n",
            " 0.21568627 0.20445261 0.21772876 0.21098856 0.21425654 0.19750817\n",
            " 0.18811275 0.17851307 0.17381536 0.16033497 0.16564542 0.17116013\n",
            " 0.17422386 0.18035131 0.17401961 0.16278595 0.16973039 0.17810458\n",
            " 0.17034314 0.16830065 0.17279412 0.17544935 0.18382353 0.19138072\n",
            " 0.18913399 0.19097222 0.17238562 0.16830065 0.1693219  0.17177288\n",
            " 0.16156046 0.14971405 0.1503268  0.15196078 0.14726307 0.14501634\n",
            " 0.14603758 0.12479575 0.13112745 0.11397059 0.1190768  0.12377451\n",
            " 0.13562092 0.12908497 0.13459967 0.12806373 0.13031046 0.12724673\n",
            " 0.13521242 0.14522059 0.15257353 0.14848856 0.14338235 0.14562908\n",
            " 0.15236928 0.15400327 0.14971405 0.1621732  0.16319444 0.16584967\n",
            " 0.17599723 0.18147521 0.18788622 0.19454825 0.20117435 0.20770803\n",
            " 0.21416475 0.22056681 0.22693089 0.23327027 0.23959793 0.24592689\n",
            " 0.25227001 0.25864008 0.26504964 0.27151072 0.27803522 0.28463453\n",
            " 0.29131964 0.29810083 0.30498797 0.31199014]\n",
            "22 day output [[0.3191162]]\n",
            "23day input[0.18239379 0.17708333 0.17810458 0.18055556 0.17810458 0.17851307\n",
            " 0.19607843 0.18913399 0.18954248 0.19403595 0.19444444 0.20200163\n",
            " 0.19771242 0.19934641 0.19873366 0.1997549  0.2128268  0.21568627\n",
            " 0.20445261 0.21772876 0.21098856 0.21425654 0.19750817 0.18811275\n",
            " 0.17851307 0.17381536 0.16033497 0.16564542 0.17116013 0.17422386\n",
            " 0.18035131 0.17401961 0.16278595 0.16973039 0.17810458 0.17034314\n",
            " 0.16830065 0.17279412 0.17544935 0.18382353 0.19138072 0.18913399\n",
            " 0.19097222 0.17238562 0.16830065 0.1693219  0.17177288 0.16156046\n",
            " 0.14971405 0.1503268  0.15196078 0.14726307 0.14501634 0.14603758\n",
            " 0.12479575 0.13112745 0.11397059 0.1190768  0.12377451 0.13562092\n",
            " 0.12908497 0.13459967 0.12806373 0.13031046 0.12724673 0.13521242\n",
            " 0.14522059 0.15257353 0.14848856 0.14338235 0.14562908 0.15236928\n",
            " 0.15400327 0.14971405 0.1621732  0.16319444 0.16584967 0.17599723\n",
            " 0.18147521 0.18788622 0.19454825 0.20117435 0.20770803 0.21416475\n",
            " 0.22056681 0.22693089 0.23327027 0.23959793 0.24592689 0.25227001\n",
            " 0.25864008 0.26504964 0.27151072 0.27803522 0.28463453 0.29131964\n",
            " 0.29810083 0.30498797 0.31199014 0.3191162 ]\n",
            "23 day output [[0.32637468]]\n",
            "24day input[0.17708333 0.17810458 0.18055556 0.17810458 0.17851307 0.19607843\n",
            " 0.18913399 0.18954248 0.19403595 0.19444444 0.20200163 0.19771242\n",
            " 0.19934641 0.19873366 0.1997549  0.2128268  0.21568627 0.20445261\n",
            " 0.21772876 0.21098856 0.21425654 0.19750817 0.18811275 0.17851307\n",
            " 0.17381536 0.16033497 0.16564542 0.17116013 0.17422386 0.18035131\n",
            " 0.17401961 0.16278595 0.16973039 0.17810458 0.17034314 0.16830065\n",
            " 0.17279412 0.17544935 0.18382353 0.19138072 0.18913399 0.19097222\n",
            " 0.17238562 0.16830065 0.1693219  0.17177288 0.16156046 0.14971405\n",
            " 0.1503268  0.15196078 0.14726307 0.14501634 0.14603758 0.12479575\n",
            " 0.13112745 0.11397059 0.1190768  0.12377451 0.13562092 0.12908497\n",
            " 0.13459967 0.12806373 0.13031046 0.12724673 0.13521242 0.14522059\n",
            " 0.15257353 0.14848856 0.14338235 0.14562908 0.15236928 0.15400327\n",
            " 0.14971405 0.1621732  0.16319444 0.16584967 0.17599723 0.18147521\n",
            " 0.18788622 0.19454825 0.20117435 0.20770803 0.21416475 0.22056681\n",
            " 0.22693089 0.23327027 0.23959793 0.24592689 0.25227001 0.25864008\n",
            " 0.26504964 0.27151072 0.27803522 0.28463453 0.29131964 0.29810083\n",
            " 0.30498797 0.31199014 0.3191162  0.32637468]\n",
            "24 day output [[0.3337738]]\n",
            "25day input[0.17810458 0.18055556 0.17810458 0.17851307 0.19607843 0.18913399\n",
            " 0.18954248 0.19403595 0.19444444 0.20200163 0.19771242 0.19934641\n",
            " 0.19873366 0.1997549  0.2128268  0.21568627 0.20445261 0.21772876\n",
            " 0.21098856 0.21425654 0.19750817 0.18811275 0.17851307 0.17381536\n",
            " 0.16033497 0.16564542 0.17116013 0.17422386 0.18035131 0.17401961\n",
            " 0.16278595 0.16973039 0.17810458 0.17034314 0.16830065 0.17279412\n",
            " 0.17544935 0.18382353 0.19138072 0.18913399 0.19097222 0.17238562\n",
            " 0.16830065 0.1693219  0.17177288 0.16156046 0.14971405 0.1503268\n",
            " 0.15196078 0.14726307 0.14501634 0.14603758 0.12479575 0.13112745\n",
            " 0.11397059 0.1190768  0.12377451 0.13562092 0.12908497 0.13459967\n",
            " 0.12806373 0.13031046 0.12724673 0.13521242 0.14522059 0.15257353\n",
            " 0.14848856 0.14338235 0.14562908 0.15236928 0.15400327 0.14971405\n",
            " 0.1621732  0.16319444 0.16584967 0.17599723 0.18147521 0.18788622\n",
            " 0.19454825 0.20117435 0.20770803 0.21416475 0.22056681 0.22693089\n",
            " 0.23327027 0.23959793 0.24592689 0.25227001 0.25864008 0.26504964\n",
            " 0.27151072 0.27803522 0.28463453 0.29131964 0.29810083 0.30498797\n",
            " 0.31199014 0.3191162  0.32637468 0.33377379]\n",
            "25 day output [[0.34132212]]\n",
            "26day input[0.18055556 0.17810458 0.17851307 0.19607843 0.18913399 0.18954248\n",
            " 0.19403595 0.19444444 0.20200163 0.19771242 0.19934641 0.19873366\n",
            " 0.1997549  0.2128268  0.21568627 0.20445261 0.21772876 0.21098856\n",
            " 0.21425654 0.19750817 0.18811275 0.17851307 0.17381536 0.16033497\n",
            " 0.16564542 0.17116013 0.17422386 0.18035131 0.17401961 0.16278595\n",
            " 0.16973039 0.17810458 0.17034314 0.16830065 0.17279412 0.17544935\n",
            " 0.18382353 0.19138072 0.18913399 0.19097222 0.17238562 0.16830065\n",
            " 0.1693219  0.17177288 0.16156046 0.14971405 0.1503268  0.15196078\n",
            " 0.14726307 0.14501634 0.14603758 0.12479575 0.13112745 0.11397059\n",
            " 0.1190768  0.12377451 0.13562092 0.12908497 0.13459967 0.12806373\n",
            " 0.13031046 0.12724673 0.13521242 0.14522059 0.15257353 0.14848856\n",
            " 0.14338235 0.14562908 0.15236928 0.15400327 0.14971405 0.1621732\n",
            " 0.16319444 0.16584967 0.17599723 0.18147521 0.18788622 0.19454825\n",
            " 0.20117435 0.20770803 0.21416475 0.22056681 0.22693089 0.23327027\n",
            " 0.23959793 0.24592689 0.25227001 0.25864008 0.26504964 0.27151072\n",
            " 0.27803522 0.28463453 0.29131964 0.29810083 0.30498797 0.31199014\n",
            " 0.3191162  0.32637468 0.33377379 0.34132212]\n",
            "26 day output [[0.34902796]]\n",
            "27day input[0.17810458 0.17851307 0.19607843 0.18913399 0.18954248 0.19403595\n",
            " 0.19444444 0.20200163 0.19771242 0.19934641 0.19873366 0.1997549\n",
            " 0.2128268  0.21568627 0.20445261 0.21772876 0.21098856 0.21425654\n",
            " 0.19750817 0.18811275 0.17851307 0.17381536 0.16033497 0.16564542\n",
            " 0.17116013 0.17422386 0.18035131 0.17401961 0.16278595 0.16973039\n",
            " 0.17810458 0.17034314 0.16830065 0.17279412 0.17544935 0.18382353\n",
            " 0.19138072 0.18913399 0.19097222 0.17238562 0.16830065 0.1693219\n",
            " 0.17177288 0.16156046 0.14971405 0.1503268  0.15196078 0.14726307\n",
            " 0.14501634 0.14603758 0.12479575 0.13112745 0.11397059 0.1190768\n",
            " 0.12377451 0.13562092 0.12908497 0.13459967 0.12806373 0.13031046\n",
            " 0.12724673 0.13521242 0.14522059 0.15257353 0.14848856 0.14338235\n",
            " 0.14562908 0.15236928 0.15400327 0.14971405 0.1621732  0.16319444\n",
            " 0.16584967 0.17599723 0.18147521 0.18788622 0.19454825 0.20117435\n",
            " 0.20770803 0.21416475 0.22056681 0.22693089 0.23327027 0.23959793\n",
            " 0.24592689 0.25227001 0.25864008 0.26504964 0.27151072 0.27803522\n",
            " 0.28463453 0.29131964 0.29810083 0.30498797 0.31199014 0.3191162\n",
            " 0.32637468 0.33377379 0.34132212 0.34902796]\n",
            "27 day output [[0.35690045]]\n",
            "28day input[0.17851307 0.19607843 0.18913399 0.18954248 0.19403595 0.19444444\n",
            " 0.20200163 0.19771242 0.19934641 0.19873366 0.1997549  0.2128268\n",
            " 0.21568627 0.20445261 0.21772876 0.21098856 0.21425654 0.19750817\n",
            " 0.18811275 0.17851307 0.17381536 0.16033497 0.16564542 0.17116013\n",
            " 0.17422386 0.18035131 0.17401961 0.16278595 0.16973039 0.17810458\n",
            " 0.17034314 0.16830065 0.17279412 0.17544935 0.18382353 0.19138072\n",
            " 0.18913399 0.19097222 0.17238562 0.16830065 0.1693219  0.17177288\n",
            " 0.16156046 0.14971405 0.1503268  0.15196078 0.14726307 0.14501634\n",
            " 0.14603758 0.12479575 0.13112745 0.11397059 0.1190768  0.12377451\n",
            " 0.13562092 0.12908497 0.13459967 0.12806373 0.13031046 0.12724673\n",
            " 0.13521242 0.14522059 0.15257353 0.14848856 0.14338235 0.14562908\n",
            " 0.15236928 0.15400327 0.14971405 0.1621732  0.16319444 0.16584967\n",
            " 0.17599723 0.18147521 0.18788622 0.19454825 0.20117435 0.20770803\n",
            " 0.21416475 0.22056681 0.22693089 0.23327027 0.23959793 0.24592689\n",
            " 0.25227001 0.25864008 0.26504964 0.27151072 0.27803522 0.28463453\n",
            " 0.29131964 0.29810083 0.30498797 0.31199014 0.3191162  0.32637468\n",
            " 0.33377379 0.34132212 0.34902796 0.35690045]\n",
            "28 day output [[0.36494878]]\n",
            "29day input[0.19607843 0.18913399 0.18954248 0.19403595 0.19444444 0.20200163\n",
            " 0.19771242 0.19934641 0.19873366 0.1997549  0.2128268  0.21568627\n",
            " 0.20445261 0.21772876 0.21098856 0.21425654 0.19750817 0.18811275\n",
            " 0.17851307 0.17381536 0.16033497 0.16564542 0.17116013 0.17422386\n",
            " 0.18035131 0.17401961 0.16278595 0.16973039 0.17810458 0.17034314\n",
            " 0.16830065 0.17279412 0.17544935 0.18382353 0.19138072 0.18913399\n",
            " 0.19097222 0.17238562 0.16830065 0.1693219  0.17177288 0.16156046\n",
            " 0.14971405 0.1503268  0.15196078 0.14726307 0.14501634 0.14603758\n",
            " 0.12479575 0.13112745 0.11397059 0.1190768  0.12377451 0.13562092\n",
            " 0.12908497 0.13459967 0.12806373 0.13031046 0.12724673 0.13521242\n",
            " 0.14522059 0.15257353 0.14848856 0.14338235 0.14562908 0.15236928\n",
            " 0.15400327 0.14971405 0.1621732  0.16319444 0.16584967 0.17599723\n",
            " 0.18147521 0.18788622 0.19454825 0.20117435 0.20770803 0.21416475\n",
            " 0.22056681 0.22693089 0.23327027 0.23959793 0.24592689 0.25227001\n",
            " 0.25864008 0.26504964 0.27151072 0.27803522 0.28463453 0.29131964\n",
            " 0.29810083 0.30498797 0.31199014 0.3191162  0.32637468 0.33377379\n",
            " 0.34132212 0.34902796 0.35690045 0.36494878]\n",
            "29 day output [[0.37318304]]\n",
            "[[0.17599722743034363], [0.1814752072095871], [0.18788622319698334], [0.19454824924468994], [0.20117434859275818], [0.20770803093910217], [0.21416474878787994], [0.22056680917739868], [0.2269308865070343], [0.23327027261257172], [0.23959793150424957], [0.2459268867969513], [0.25227001309394836], [0.2586400806903839], [0.26504963636398315], [0.2715107202529907], [0.2780352234840393], [0.284634530544281], [0.2913196384906769], [0.2981008291244507], [0.30498796701431274], [0.3119901418685913], [0.3191162049770355], [0.32637467980384827], [0.33377379179000854], [0.341322124004364], [0.34902796149253845], [0.3569004535675049], [0.3649487793445587], [0.3731830418109894]]\n"
          ]
        }
      ]
    },
    {
      "cell_type": "code",
      "source": [
        "day_new = np.arange(1,101)\n",
        "day_pred = np.arange(101,131)"
      ],
      "metadata": {
        "id": "eQYTXGi9Wl7O"
      },
      "execution_count": 43,
      "outputs": []
    },
    {
      "cell_type": "code",
      "source": [
        "df3 = data_close.tolist()\n",
        "df3.extend(first_output)"
      ],
      "metadata": {
        "id": "eQ4b0BmuZb_4"
      },
      "execution_count": 44,
      "outputs": []
    },
    {
      "cell_type": "code",
      "source": [
        "len(data_close)"
      ],
      "metadata": {
        "colab": {
          "base_uri": "https://localhost:8080/"
        },
        "id": "ZQqll2I6aGOw",
        "outputId": "201d7ed8-b7c1-4bab-e0ac-9d2bd8e1cdf1"
      },
      "execution_count": 45,
      "outputs": [
        {
          "output_type": "execute_result",
          "data": {
            "text/plain": [
              "2035"
            ]
          },
          "metadata": {},
          "execution_count": 45
        }
      ]
    },
    {
      "cell_type": "code",
      "source": [
        "plt.plot(day_new, scaler.inverse_transform(data_close[1935:]))\n",
        "plt.plot(day_pred, scaler.inverse_transform(first_output))"
      ],
      "metadata": {
        "colab": {
          "base_uri": "https://localhost:8080/",
          "height": 283
        },
        "id": "iD31ylg7aJo-",
        "outputId": "1116c986-52d8-4b06-f057-007d92c6a32f"
      },
      "execution_count": 46,
      "outputs": [
        {
          "output_type": "execute_result",
          "data": {
            "text/plain": [
              "[<matplotlib.lines.Line2D at 0x7f25d75d3fd0>]"
            ]
          },
          "metadata": {},
          "execution_count": 46
        },
        {
          "output_type": "display_data",
          "data": {
            "image/png": "[encoded data removed]",
            "text/plain": [
              "<Figure size 432x288 with 1 Axes>"
            ]
          },
          "metadata": {
            "needs_background": "light"
          }
        }
      ]
    },
    {
      "cell_type": "code",
      "source": [
        ""
      ],
      "metadata": {
        "id": "ovhjyF1_amyr"
      },
      "execution_count": null,
      "outputs": []
    }
  ]
}